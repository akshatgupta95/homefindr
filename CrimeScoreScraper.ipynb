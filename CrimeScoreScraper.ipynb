{
 "cells": [
  {
   "cell_type": "code",
   "execution_count": 254,
   "metadata": {
    "collapsed": false
   },
   "outputs": [],
   "source": [
    "from bs4 import BeautifulSoup\n",
    "import urllib.request\n",
    "import time\n",
    "import json"
   ]
  },
  {
   "cell_type": "code",
   "execution_count": 255,
   "metadata": {
    "collapsed": false
   },
   "outputs": [],
   "source": [
    "def get_crime_zipcode_mapping():\n",
    "    list_urls = get_all_urls()\n",
    "    ret_dict = {}\n",
    "    for url in list_urls:\n",
    "        wp = urllib.request.urlopen(url)\n",
    "        soup = BeautifulSoup(wp, 'html.parser')\n",
    "        tables = soup.findAll(\"table\")\n",
    "        tags = tables[1].findAll(\"td\")\n",
    "        property_crime = tags[-2].string\n",
    "        violent_crime = tags[-5].string\n",
    "        url_split = url.split(\"/\")\n",
    "        zipcode = url_split[-1]\n",
    "        city_name = url_split[-2]\n",
    "        if (property_crime == None):\n",
    "            default_dict = {\"property_crime\": \"43.5\", \"violent_crime\": \"41.4\"}\n",
    "            ret_dict[str((city_name, zipcode))] = default_dict\n",
    "        else:\n",
    "            new_dict = {\"property_crime\": property_crime, \"violent_crime\": violent_crime}\n",
    "            ret_dict[str((city_name, zipcode))] = new_dict\n",
    "    return ret_dict"
   ]
  },
  {
   "cell_type": "code",
   "execution_count": 256,
   "metadata": {
    "collapsed": false
   },
   "outputs": [],
   "source": [
    "def get_zipcodes_by_city(city_name):\n",
    "    with open('./zipcodes_by_city.json') as data_file:    \n",
    "        data = json.load(data_file)\n",
    "    return data[city_name]"
   ]
  },
  {
   "cell_type": "code",
   "execution_count": 257,
   "metadata": {
    "collapsed": false
   },
   "outputs": [],
   "source": [
    "base_url = \"http://www.bestplaces.net/crime/zip-code/illinois\"\n",
    "city_list = ['San Francisco', 'Austin', 'Chicago', 'New York']\n",
    "city_list_to_url = {\"San Francisco\": 'san_francisco', \"Austin\": \"austin\", \"Chicago\": \"chicago\", \"New York\": \"new_york\"}"
   ]
  },
  {
   "cell_type": "code",
   "execution_count": 258,
   "metadata": {
    "collapsed": false
   },
   "outputs": [],
   "source": [
    "def get_all_urls():\n",
    "    ret_urls = []\n",
    "    for city in city_list:\n",
    "        city_zipcodes = get_zipcodes_by_city(city)\n",
    "        for zipcode in city_zipcodes:\n",
    "            parameters = \"/{city_code}/{zip_code}\".format(city_code=city_list_to_url[city], zip_code=zipcode)\n",
    "            url = base_url + parameters\n",
    "            ret_urls.append(url)\n",
    "    return ret_urls"
   ]
  },
  {
   "cell_type": "code",
   "execution_count": null,
   "metadata": {
    "collapsed": false
   },
   "outputs": [],
   "source": []
  },
  {
   "cell_type": "code",
   "execution_count": 259,
   "metadata": {
    "collapsed": false,
    "scrolled": false
   },
   "outputs": [],
   "source": [
    "with open('./zipcode_crime.json', 'w') as outfile:\n",
    "    data = get_crime_zipcode_mapping()\n",
    "    json.dump(data, outfile)"
   ]
  },
  {
   "cell_type": "code",
   "execution_count": 241,
   "metadata": {
    "collapsed": false
   },
   "outputs": [],
   "source": []
  },
  {
   "cell_type": "code",
   "execution_count": null,
   "metadata": {
    "collapsed": true
   },
   "outputs": [],
   "source": []
  }
 ],
 "metadata": {
  "kernelspec": {
   "display_name": "Python 3",
   "language": "python",
   "name": "python3"
  },
  "language_info": {
   "codemirror_mode": {
    "name": "ipython",
    "version": 3
   },
   "file_extension": ".py",
   "mimetype": "text/x-python",
   "name": "python",
   "nbconvert_exporter": "python",
   "pygments_lexer": "ipython3",
   "version": "3.5.1"
  }
 },
 "nbformat": 4,
 "nbformat_minor": 0
}
