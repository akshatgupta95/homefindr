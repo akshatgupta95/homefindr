{
 "cells": [
  {
   "cell_type": "code",
   "execution_count": 1,
   "metadata": {
    "collapsed": false
   },
   "outputs": [],
   "source": [
    "from bs4 import BeautifulSoup\n",
    "import urllib.request\n",
    "import time\n",
    "import json"
   ]
  },
  {
   "cell_type": "code",
   "execution_count": 2,
   "metadata": {
    "collapsed": false
   },
   "outputs": [],
   "source": [
    "def get_crime_zipcode_mapping():\n",
    "    list_urls = get_all_urls()\n",
    "    ret_dict = {}\n",
    "    for url in list_urls:\n",
    "        wp = urllib.request.urlopen(url)\n",
    "        soup = BeautifulSoup(wp, 'html.parser')\n",
    "        tables = soup.findAll(\"table\")\n",
    "        tags = tables[1].findAll(\"td\")\n",
    "        property_crime = tags[-2].string\n",
    "        violent_crime = tags[-5].string\n",
    "        url_split = url.split(\"/\")\n",
    "        zipcode = url_split[-1]\n",
    "        city_name = url_split[-2]\n",
    "        if (property_crime == None):\n",
    "            final_score = 105.6\n",
    "        else:\n",
    "            final_score = 1.5*float(violent_crime) + float(property_crime)\n",
    "        if (city_name in ret_dict):\n",
    "            (ret_dict[city_name])[zipcode] = final_score\n",
    "        else:\n",
    "            ret_dict[city_name] = {zipcode : final_score}\n",
    "    return ret_dict"
   ]
  },
  {
   "cell_type": "code",
   "execution_count": 3,
   "metadata": {
    "collapsed": false
   },
   "outputs": [],
   "source": [
    "def get_zipcodes_by_city(city_name):\n",
    "    with open('./zipcodes_by_city.json') as data_file:    \n",
    "        data = json.load(data_file)\n",
    "    return data[city_name]"
   ]
  },
  {
   "cell_type": "code",
   "execution_count": 4,
   "metadata": {
    "collapsed": false
   },
   "outputs": [],
   "source": [
    "base_url = \"http://www.bestplaces.net/crime/zip-code/illinois\"\n",
    "city_list = ['Boston','San Francisco', 'Chicago', 'New York']\n",
    "city_list_to_url = {\"San Francisco\": 'san_francisco', \"Boston\": \"boston\", \"Chicago\": \"chicago\", \"New York\": \"new_york\"}"
   ]
  },
  {
   "cell_type": "code",
   "execution_count": 5,
   "metadata": {
    "collapsed": false
   },
   "outputs": [],
   "source": [
    "def get_all_urls():\n",
    "    ret_urls = []\n",
    "    for city in city_list:\n",
    "        city_zipcodes = get_zipcodes_by_city(city)\n",
    "        for zipcode in city_zipcodes:\n",
    "            parameters = \"/{city_code}/{zip_code}\".format(city_code=city_list_to_url[city], zip_code=zipcode)\n",
    "            url = base_url + parameters\n",
    "            ret_urls.append(url)\n",
    "    return ret_urls"
   ]
  },
  {
   "cell_type": "code",
   "execution_count": 6,
   "metadata": {
    "collapsed": false,
    "scrolled": false
   },
   "outputs": [],
   "source": [
    "data = get_crime_zipcode_mapping()"
   ]
  },
  {
   "cell_type": "code",
   "execution_count": 7,
   "metadata": {
    "collapsed": false
   },
   "outputs": [],
   "source": [
    "def get_max_value_dict():\n",
    "    max_value = -1\n",
    "    for key in data.keys():\n",
    "        new_dict = data[key]\n",
    "        curr_max_value = new_dict[max(new_dict, key=new_dict.get)] \n",
    "        if (max_value < curr_max_value):\n",
    "            max_value = curr_max_value\n",
    "            new_dict = data[key]\n",
    "    return max_value"
   ]
  },
  {
   "cell_type": "code",
   "execution_count": 8,
   "metadata": {
    "collapsed": false
   },
   "outputs": [],
   "source": [
    "max_value_in_dict = get_max_value_dict()\n",
    "for key in data.keys():\n",
    "    curr_dict = data[key]\n",
    "    for key,value in curr_dict.items():\n",
    "        value = value/max_value_in_dict\n",
    "        curr_dict[key] = value"
   ]
  },
  {
   "cell_type": "code",
   "execution_count": 9,
   "metadata": {
    "collapsed": true
   },
   "outputs": [],
   "source": [
    "with open('./zipcode_crime.json', 'w') as outfile:\n",
    "    json.dump(data, outfile)"
   ]
  },
  {
   "cell_type": "code",
   "execution_count": null,
   "metadata": {
    "collapsed": true
   },
   "outputs": [],
   "source": []
  }
 ],
 "metadata": {
  "kernelspec": {
   "display_name": "Python 3",
   "language": "python",
   "name": "python3"
  },
  "language_info": {
   "codemirror_mode": {
    "name": "ipython",
    "version": 3
   },
   "file_extension": ".py",
   "mimetype": "text/x-python",
   "name": "python",
   "nbconvert_exporter": "python",
   "pygments_lexer": "ipython3",
   "version": "3.5.1"
  }
 },
 "nbformat": 4,
 "nbformat_minor": 0
}
