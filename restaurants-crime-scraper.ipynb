{
 "cells": [
  {
   "cell_type": "code",
   "execution_count": 19,
   "metadata": {
    "collapsed": true
   },
   "outputs": [],
   "source": [
    "import csv\n",
    "from collections import defaultdict\n",
    "from geopy.geocoders import Nominatim\n",
    "from sets import Set\n",
    "import os\n",
    "import pandas as pd\n",
    "import json"
   ]
  },
  {
   "cell_type": "code",
   "execution_count": 20,
   "metadata": {
    "collapsed": false
   },
   "outputs": [],
   "source": [
    "cities_restaurants = defaultdict(list)"
   ]
  },
  {
   "cell_type": "code",
   "execution_count": 21,
   "metadata": {
    "collapsed": false
   },
   "outputs": [],
   "source": [
    "with open('./restaurant-data/austin-restaurants.csv') as rest_data:\n",
    "    reader = csv.reader(rest_data)\n",
    "    for row in reader:\n",
    "        if (len(row[4].split('\\n')) == 3):\n",
    "            if (row[4].split('\\n')[2] != ''):\n",
    "                name = str(row[0])\n",
    "                latlong = str(row[4].split('\\n')[2])\n",
    "                cities_restaurants['austin'].append({'name' : name, 'latlong' : str(latlong)})"
   ]
  },
  {
   "cell_type": "code",
   "execution_count": 22,
   "metadata": {
    "collapsed": false
   },
   "outputs": [],
   "source": [
    "with open('./restaurant-data/sf-restaurants.csv') as rest_data:\n",
    "    reader = csv.reader(rest_data)\n",
    "    for row in reader:\n",
    "        name = row[1]\n",
    "        latlong = (row[5], row[6])\n",
    "        if (latlong != ('','')):\n",
    "            cities_restaurants['san francisco'].append({'name' : name, 'latlong' : str(latlong)})"
   ]
  },
  {
   "cell_type": "code",
   "execution_count": 23,
   "metadata": {
    "collapsed": false
   },
   "outputs": [],
   "source": [
    "with open('./restaurant-data/chicago-restaurants.csv') as rest_data:\n",
    "    reader = csv.reader(rest_data)\n",
    "    for row in reader:\n",
    "        name = row[1]\n",
    "        latlong = (row[14], row[15])\n",
    "        cities_restaurants['chicago'].append({'name' : name, 'latlong' : str(latlong)})"
   ]
  },
  {
   "cell_type": "code",
   "execution_count": 24,
   "metadata": {
    "collapsed": false
   },
   "outputs": [],
   "source": [
    "with open('./restaurant-data/nyc-restaurants.csv') as rest_data:\n",
    "    reader = csv.reader(rest_data)\n",
    "    for row in reader:\n",
    "        name = row[0]\n",
    "        latlong = (row[1], row[2])\n",
    "        cities_restaurants['new york city'].append({'name' : name, 'latlong' : str(latlong)})"
   ]
  },
  {
   "cell_type": "code",
   "execution_count": 25,
   "metadata": {
    "collapsed": false
   },
   "outputs": [],
   "source": [
    "with open('./restaurant-data/boston-restaurants.csv') as rest_data:\n",
    "    reader = csv.reader(rest_data)\n",
    "    for row in reader:\n",
    "        name = row[0]\n",
    "        latlong = row[-1]\n",
    "        if (latlong != ''):\n",
    "            cities_restaurants['boston'].append({'name' : name, 'latlong' : str(latlong)})"
   ]
  },
  {
   "cell_type": "code",
   "execution_count": 26,
   "metadata": {
    "collapsed": false
   },
   "outputs": [
    {
     "data": {
      "text/plain": [
       "[{'latlong': \"('37.791116', '-122.403816')\", 'name': 'Tiramisu Kitchen'},\n",
       " {'latlong': \"('37.786848', '-122.421547')\", 'name': 'Nrgize Lifestyle Cafe'},\n",
       " {'latlong': \"('37.792888', '-122.403135')\",\n",
       "  'name': 'OMNI S.F. Hotel - 2nd Floor Pantry'},\n",
       " {'latlong': \"('37.807155', '-122.419004')\",\n",
       "  'name': \"Norman's Ice Cream and Freezes\"},\n",
       " {'latlong': \"('37.747114', '-122.413641')\", 'name': \"CHARLIE'S DELI CAFE\"}]"
      ]
     },
     "execution_count": 26,
     "metadata": {},
     "output_type": "execute_result"
    }
   ],
   "source": [
    "cities_restaurants['san francisco'][:5]"
   ]
  },
  {
   "cell_type": "code",
   "execution_count": 27,
   "metadata": {
    "collapsed": false
   },
   "outputs": [
    {
     "data": {
      "text/plain": [
       "[{'latlong': '(30.327614, -97.705496)', 'name': \"'Bout Time II\"},\n",
       " {'latlong': '(30.277693, -97.742469)', 'name': '15th Street Cafe'},\n",
       " {'latlong': '(30.277693, -97.742469)', 'name': '15th Street Cafe'},\n",
       " {'latlong': '(30.277693, -97.742469)', 'name': '15th Street Cafe'},\n",
       " {'latlong': '(30.312363, -97.715363)', 'name': '1-Stop Food Store'}]"
      ]
     },
     "execution_count": 27,
     "metadata": {},
     "output_type": "execute_result"
    }
   ],
   "source": [
    "cities_restaurants['austin'][:5]"
   ]
  },
  {
   "cell_type": "code",
   "execution_count": 28,
   "metadata": {
    "collapsed": false
   },
   "outputs": [
    {
     "data": {
      "text/plain": [
       "[{'latlong': \"('41.88799988734853', '-87.62256513255957')\",\n",
       "  'name': 'MARKET CHICAGO'},\n",
       " {'latlong': \"('41.88743405025222', '-87.68184949426895')\",\n",
       "  'name': 'DONERMEN, L.L.C.'},\n",
       " {'latlong': \"('41.9011391003399', '-87.6632554839912')\",\n",
       "  'name': 'WICKER PARK KIDZ LEARING CENTER INC.'},\n",
       " {'latlong': \"('41.93400462046093', '-87.66094552143197')\",\n",
       "  'name': 'LEFT COAST FOOD + JUICE'},\n",
       " {'latlong': \"('41.824042753773746', '-87.62294655194275')\",\n",
       "  'name': 'FOOD EXPRESS RESTAURANT'}]"
      ]
     },
     "execution_count": 28,
     "metadata": {},
     "output_type": "execute_result"
    }
   ],
   "source": [
    "cities_restaurants['chicago'][:5]"
   ]
  },
  {
   "cell_type": "code",
   "execution_count": 29,
   "metadata": {
    "collapsed": false
   },
   "outputs": [
    {
     "data": {
      "text/plain": [
       "[{'latlong': \"('40.7643124', '-73.8803827')\",\n",
       "  'name': 'BRUNOS ON THE BOULEVARD 88-25 ASTORIA BOULEVARD New York NY 11369'},\n",
       " {'latlong': \"('40.8502883', '-73.8786113')\",\n",
       "  'name': 'WILD ASIA 2300 SOUTHERN BOULEVARD New York NY 10460'},\n",
       " {'latlong': \"('40.7925587', '-73.9680572')\",\n",
       "  'name': 'P & S DELI GROCERY 730 COLUMBUS AVENUE New York NY 10025'},\n",
       " {'latlong': \"('40.7250632', '-73.9976946')\",\n",
       "  'name': 'ANGELIKA FILM CENTER 18 WEST HOUSTON STREET New York NY 10012'},\n",
       " {'latlong': \"('40.6515882', '-73.9330429')\",\n",
       "  'name': \"SHASHEMENE INT'L RESTAURA 195 EAST 56 STREET New York NY 11203\"}]"
      ]
     },
     "execution_count": 29,
     "metadata": {},
     "output_type": "execute_result"
    }
   ],
   "source": [
    "cities_restaurants['new york city'][:5]"
   ]
  },
  {
   "cell_type": "code",
   "execution_count": 30,
   "metadata": {
    "collapsed": false
   },
   "outputs": [
    {
     "data": {
      "text/plain": [
       "[{'latlong': '(42.34842, -71.097471)', 'name': 'Uno Chicago Grill'},\n",
       " {'latlong': '(42.355646, -71.062559)', 'name': \"Ziti's Express\"},\n",
       " {'latlong': '(42.349589, -71.080292)', 'name': 'Uno Chicago Grill'},\n",
       " {'latlong': '(42.33474, -71.07567)', 'name': 'Pizza Stop'},\n",
       " {'latlong': '(42.315595, -71.065919)', 'name': 'CANTON HOUSE'}]"
      ]
     },
     "execution_count": 30,
     "metadata": {},
     "output_type": "execute_result"
    }
   ],
   "source": [
    "cities_restaurants['boston'][:5]"
   ]
  },
  {
   "cell_type": "code",
   "execution_count": 31,
   "metadata": {
    "collapsed": false
   },
   "outputs": [],
   "source": [
    "for_json = {\"austin\" : cities_restaurants['austin'],\n",
    "           \"chicago\" : cities_restaurants['chicago'],\n",
    "           \"new york\" : cities_restaurants['new york'],\n",
    "           \"san francisco\" : cities_restaurants['san francisco'],\n",
    "           \"montgomery\" : cities_restaurants['montgomery']\n",
    "           }"
   ]
  },
  {
   "cell_type": "code",
   "execution_count": 32,
   "metadata": {
    "collapsed": false
   },
   "outputs": [],
   "source": [
    "with open('restaurants.json', 'w') as outfile:\n",
    "    json.dump(for_json, outfile)"
   ]
  }
 ],
 "metadata": {
  "kernelspec": {
   "display_name": "Python 2",
   "language": "python",
   "name": "python2"
  },
  "language_info": {
   "codemirror_mode": {
    "name": "ipython",
    "version": 2
   },
   "file_extension": ".py",
   "mimetype": "text/x-python",
   "name": "python",
   "nbconvert_exporter": "python",
   "pygments_lexer": "ipython2",
   "version": "2.7.7"
  }
 },
 "nbformat": 4,
 "nbformat_minor": 0
}
