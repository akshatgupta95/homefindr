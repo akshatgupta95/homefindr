{
 "cells": [
  {
   "cell_type": "code",
   "execution_count": 4,
   "metadata": {
    "collapsed": true
   },
   "outputs": [],
   "source": [
    "import csv\n",
    "from collections import defaultdict\n",
    "from geopy.geocoders import Nominatim\n",
    "from sets import Set\n",
    "import os\n",
    "import pandas as pd\n",
    "import json"
   ]
  },
  {
   "cell_type": "code",
   "execution_count": 5,
   "metadata": {
    "collapsed": false
   },
   "outputs": [],
   "source": [
    "cities_restaurants = defaultdict(list)"
   ]
  },
  {
   "cell_type": "code",
   "execution_count": 166,
   "metadata": {
    "collapsed": false
   },
   "outputs": [],
   "source": [
    "with open('./restaurant-data/austin-restaurants.csv') as rest_data:\n",
    "    reader = csv.reader(rest_data)\n",
    "    for row in reader:\n",
    "        if (len(row[4].split('\\n')) == 3):\n",
    "            if (row[4].split('\\n')[2] != ''):\n",
    "                name = str(row[0])\n",
    "                latlong = str(row[4].split('\\n')[2])\n",
    "                cities_restaurants['austin'].append({'name' : name, 'latlong' : str(latlong)})"
   ]
  },
  {
   "cell_type": "code",
   "execution_count": 6,
   "metadata": {
    "collapsed": false
   },
   "outputs": [],
   "source": [
    "with open('./restaurant-data/sf-restaurants.csv') as rest_data:\n",
    "    reader = csv.reader(rest_data)\n",
    "    for row in reader:\n",
    "        name = row[1]\n",
    "        latlong = (row[5], row[6])\n",
    "        if (latlong != ('','')):\n",
    "            cities_restaurants['san francisco'].append({'name' : name, 'latlong' : str(latlong)})"
   ]
  },
  {
   "cell_type": "code",
   "execution_count": 168,
   "metadata": {
    "collapsed": false
   },
   "outputs": [],
   "source": [
    "with open('./restaurant-data/chicago-restaurants.csv') as rest_data:\n",
    "    reader = csv.reader(rest_data)\n",
    "    for row in reader:\n",
    "        name = row[1]\n",
    "        latlong = (row[14], row[15])\n",
    "        cities_restaurants['chicago'].append({'name' : name, 'latlong' : str(latlong)})"
   ]
  },
  {
   "cell_type": "code",
   "execution_count": 169,
   "metadata": {
    "collapsed": false
   },
   "outputs": [],
   "source": [
    "with open('./restaurant-data/nyc-restaurants.csv') as rest_data:\n",
    "    reader = csv.reader(rest_data)\n",
    "    for row in reader:\n",
    "        name = row[0]\n",
    "        latlong = (row[1], row[2])\n",
    "        cities_restaurants['new york city'].append({'name' : name, 'latlong' : str(latlong)})"
   ]
  },
  {
   "cell_type": "code",
   "execution_count": 170,
   "metadata": {
    "collapsed": false
   },
   "outputs": [],
   "source": [
    "with open('./restaurant-data/maryland-restaurants.csv') as rest_data:\n",
    "    reader = csv.reader(rest_data)\n",
    "    for row in reader:\n",
    "        name = row[1]\n",
    "        latlong = row[-1]\n",
    "        if (latlong != ''):\n",
    "            cities_restaurants['montgomery'].append({'name' : name, 'latlong' : str(latlong)})"
   ]
  },
  {
   "cell_type": "code",
   "execution_count": 171,
   "metadata": {
    "collapsed": false
   },
   "outputs": [
    {
     "data": {
      "text/plain": [
       "[{'latlong': \"('37.791116', '-122.403816')\", 'name': 'Tiramisu Kitchen'},\n",
       " {'latlong': \"('37.786848', '-122.421547')\", 'name': 'Nrgize Lifestyle Cafe'},\n",
       " {'latlong': \"('37.792888', '-122.403135')\",\n",
       "  'name': 'OMNI S.F. Hotel - 2nd Floor Pantry'},\n",
       " {'latlong': \"('37.807155', '-122.419004')\",\n",
       "  'name': \"Norman's Ice Cream and Freezes\"},\n",
       " {'latlong': \"('37.747114', '-122.413641')\", 'name': \"CHARLIE'S DELI CAFE\"}]"
      ]
     },
     "execution_count": 171,
     "metadata": {},
     "output_type": "execute_result"
    }
   ],
   "source": [
    "cities_restaurants['san francisco'][:5]"
   ]
  },
  {
   "cell_type": "code",
   "execution_count": 172,
   "metadata": {
    "collapsed": false
   },
   "outputs": [
    {
     "data": {
      "text/plain": [
       "[{'latlong': '(30.327614, -97.705496)', 'name': \"'Bout Time II\"},\n",
       " {'latlong': '(30.277693, -97.742469)', 'name': '15th Street Cafe'},\n",
       " {'latlong': '(30.277693, -97.742469)', 'name': '15th Street Cafe'},\n",
       " {'latlong': '(30.277693, -97.742469)', 'name': '15th Street Cafe'},\n",
       " {'latlong': '(30.312363, -97.715363)', 'name': '1-Stop Food Store'}]"
      ]
     },
     "execution_count": 172,
     "metadata": {},
     "output_type": "execute_result"
    }
   ],
   "source": [
    "cities_restaurants['austin'][:5]"
   ]
  },
  {
   "cell_type": "code",
   "execution_count": 173,
   "metadata": {
    "collapsed": false
   },
   "outputs": [
    {
     "data": {
      "text/plain": [
       "[{'latlong': \"('41.88799988734853', '-87.62256513255957')\",\n",
       "  'name': 'MARKET CHICAGO'},\n",
       " {'latlong': \"('41.88743405025222', '-87.68184949426895')\",\n",
       "  'name': 'DONERMEN, L.L.C.'},\n",
       " {'latlong': \"('41.9011391003399', '-87.6632554839912')\",\n",
       "  'name': 'WICKER PARK KIDZ LEARING CENTER INC.'},\n",
       " {'latlong': \"('41.93400462046093', '-87.66094552143197')\",\n",
       "  'name': 'LEFT COAST FOOD + JUICE'},\n",
       " {'latlong': \"('41.824042753773746', '-87.62294655194275')\",\n",
       "  'name': 'FOOD EXPRESS RESTAURANT'}]"
      ]
     },
     "execution_count": 173,
     "metadata": {},
     "output_type": "execute_result"
    }
   ],
   "source": [
    "cities_restaurants['chicago'][:5]"
   ]
  },
  {
   "cell_type": "code",
   "execution_count": 174,
   "metadata": {
    "collapsed": false
   },
   "outputs": [
    {
     "data": {
      "text/plain": [
       "[{'latlong': \"('40.7643124', '-73.8803827')\",\n",
       "  'name': 'BRUNOS ON THE BOULEVARD 88-25 ASTORIA BOULEVARD New York NY 11369'},\n",
       " {'latlong': \"('40.8502883', '-73.8786113')\",\n",
       "  'name': 'WILD ASIA 2300 SOUTHERN BOULEVARD New York NY 10460'},\n",
       " {'latlong': \"('40.7925587', '-73.9680572')\",\n",
       "  'name': 'P & S DELI GROCERY 730 COLUMBUS AVENUE New York NY 10025'},\n",
       " {'latlong': \"('40.7250632', '-73.9976946')\",\n",
       "  'name': 'ANGELIKA FILM CENTER 18 WEST HOUSTON STREET New York NY 10012'},\n",
       " {'latlong': \"('40.6515882', '-73.9330429')\",\n",
       "  'name': \"SHASHEMENE INT'L RESTAURA 195 EAST 56 STREET New York NY 11203\"}]"
      ]
     },
     "execution_count": 174,
     "metadata": {},
     "output_type": "execute_result"
    }
   ],
   "source": [
    "cities_restaurants['new york city'][:5]"
   ]
  },
  {
   "cell_type": "code",
   "execution_count": 175,
   "metadata": {
    "collapsed": false
   },
   "outputs": [
    {
     "data": {
      "text/plain": [
       "[{'latlong': '(39.0441, -77.1046)', 'name': 'HOME GOODS #215'},\n",
       " {'latlong': '(39.046, -77.099)', 'name': 'PIZZA LEO & ASTEROIDS'},\n",
       " {'latlong': '(39.0457, -77.1039)', 'name': 'CHICKEN BASKET'},\n",
       " {'latlong': '(39.1418, -77.1974)', 'name': 'LATINO MARKET'},\n",
       " {'latlong': '(39.046, -77.0996)', 'name': 'CAF 2020'}]"
      ]
     },
     "execution_count": 175,
     "metadata": {},
     "output_type": "execute_result"
    }
   ],
   "source": [
    "cities_restaurants['montgomery'][:5]"
   ]
  },
  {
   "cell_type": "code",
   "execution_count": 176,
   "metadata": {
    "collapsed": false
   },
   "outputs": [],
   "source": [
    "for_json = {\"austin\" : cities_restaurants['austin'],\n",
    "           \"chicago\" : cities_restaurants['chicago'],\n",
    "           \"new york\" : cities_restaurants['new york'],\n",
    "           \"san francisco\" : cities_restaurants['san francisco'],\n",
    "           \"montgomery\" : cities_restaurants['montgomery']\n",
    "           }"
   ]
  },
  {
   "cell_type": "code",
   "execution_count": 177,
   "metadata": {
    "collapsed": false
   },
   "outputs": [],
   "source": [
    "with open('restaurants.json', 'w') as outfile:\n",
    "    json.dump(for_json, outfile)"
   ]
  }
 ],
 "metadata": {
  "kernelspec": {
   "display_name": "Python 2",
   "language": "python",
   "name": "python2"
  },
  "language_info": {
   "codemirror_mode": {
    "name": "ipython",
    "version": 2
   },
   "file_extension": ".py",
   "mimetype": "text/x-python",
   "name": "python",
   "nbconvert_exporter": "python",
   "pygments_lexer": "ipython2",
   "version": "2.7.7"
  }
 },
 "nbformat": 4,
 "nbformat_minor": 0
}
