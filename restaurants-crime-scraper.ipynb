{
 "cells": [
  {
   "cell_type": "code",
   "execution_count": 58,
   "metadata": {
    "collapsed": true
   },
   "outputs": [],
   "source": [
    "import csv\n",
    "from collections import defaultdict\n",
    "from geopy.geocoders import Nominatim\n",
    "from sets import Set\n",
    "import os\n",
    "import pandas as pd\n",
    "import json"
   ]
  },
  {
   "cell_type": "code",
   "execution_count": 59,
   "metadata": {
    "collapsed": false
   },
   "outputs": [],
   "source": [
    "cities_restaurants = defaultdict(list)"
   ]
  },
  {
   "cell_type": "code",
   "execution_count": 60,
   "metadata": {
    "collapsed": false
   },
   "outputs": [],
   "source": [
    "with open('./restaurant-data/kc-restaurants.csv') as rest_data:\n",
    "    reader = csv.reader(rest_data)\n",
    "    for row in reader:\n",
    "        name = str(row[1])\n",
    "        latlong = row[-1].split('\\n')[-1]\n",
    "        cities_restaurants['kansas_city'].append({'name' : name, 'latlong' : str(latlong)})"
   ]
  },
  {
   "cell_type": "code",
   "execution_count": 61,
   "metadata": {
    "collapsed": false
   },
   "outputs": [],
   "source": [
    "with open('./restaurant-data/sf-restaurants.csv') as rest_data:\n",
    "    reader = csv.reader(rest_data)\n",
    "    for row in reader:\n",
    "        name = row[1]\n",
    "        latlong = (row[5], row[6])\n",
    "        if (latlong != ('','')):\n",
    "            cities_restaurants['san francisco'].append({'name' : name, 'latlong' : str(latlong)})"
   ]
  },
  {
   "cell_type": "code",
   "execution_count": 62,
   "metadata": {
    "collapsed": false
   },
   "outputs": [],
   "source": [
    "with open('./restaurant-data/chicago-restaurants.csv') as rest_data:\n",
    "    reader = csv.reader(rest_data)\n",
    "    for row in reader:\n",
    "        name = row[1]\n",
    "        latlong = (row[14], row[15])\n",
    "        cities_restaurants['chicago'].append({'name' : name, 'latlong' : str(latlong)})"
   ]
  },
  {
   "cell_type": "code",
   "execution_count": 63,
   "metadata": {
    "collapsed": false
   },
   "outputs": [],
   "source": [
    "with open('./restaurant-data/nyc-restaurants.csv') as rest_data:\n",
    "    reader = csv.reader(rest_data)\n",
    "    for row in reader:\n",
    "        name = row[0]\n",
    "        latlong = (row[1], row[2])\n",
    "        cities_restaurants['new york city'].append({'name' : name, 'latlong' : str(latlong)})"
   ]
  },
  {
   "cell_type": "code",
   "execution_count": 64,
   "metadata": {
    "collapsed": false
   },
   "outputs": [],
   "source": [
    "with open('./restaurant-data/boston-restaurants.csv') as rest_data:\n",
    "    reader = csv.reader(rest_data)\n",
    "    for row in reader:\n",
    "        name = row[0]\n",
    "        latlong = row[-1]\n",
    "        if (latlong != ''):\n",
    "            cities_restaurants['boston'].append({'name' : name, 'latlong' : str(latlong)})"
   ]
  },
  {
   "cell_type": "code",
   "execution_count": 65,
   "metadata": {
    "collapsed": false
   },
   "outputs": [
    {
     "data": {
      "text/plain": [
       "[{'latlong': \"('37.791116', '-122.403816')\", 'name': 'Tiramisu Kitchen'},\n",
       " {'latlong': \"('37.786848', '-122.421547')\", 'name': 'Nrgize Lifestyle Cafe'},\n",
       " {'latlong': \"('37.792888', '-122.403135')\",\n",
       "  'name': 'OMNI S.F. Hotel - 2nd Floor Pantry'},\n",
       " {'latlong': \"('37.807155', '-122.419004')\",\n",
       "  'name': \"Norman's Ice Cream and Freezes\"},\n",
       " {'latlong': \"('37.747114', '-122.413641')\", 'name': \"CHARLIE'S DELI CAFE\"}]"
      ]
     },
     "execution_count": 65,
     "metadata": {},
     "output_type": "execute_result"
    }
   ],
   "source": [
    "cities_restaurants['san francisco'][:5]"
   ]
  },
  {
   "cell_type": "code",
   "execution_count": 66,
   "metadata": {
    "collapsed": false
   },
   "outputs": [
    {
     "data": {
      "text/plain": [
       "[{'latlong': '(39.05710307500004, -94.60614417399995)',\n",
       "  'name': 'Genghis Khan Mongolian Grill'},\n",
       " {'latlong': '(39.013642600000026, -94.58407239199994)',\n",
       "  'name': '7-Eleven #17258 Deli'},\n",
       " {'latlong': '(39.06910119500003, -94.58533933399997)',\n",
       "  'name': 'Gates Bar B Q (3201 Main St.)'},\n",
       " {'latlong': '(39.08256518500008, -94.58183581299994)',\n",
       "  'name': 'Einstein Bros Bagels #3048'},\n",
       " {'latlong': '(39.15101078400005, -94.47726143599994)',\n",
       "  'name': \"Ameristar Pearl's Oyster Bar\"}]"
      ]
     },
     "execution_count": 66,
     "metadata": {},
     "output_type": "execute_result"
    }
   ],
   "source": [
    "cities_restaurants['kansas_city'][:5]"
   ]
  },
  {
   "cell_type": "code",
   "execution_count": 67,
   "metadata": {
    "collapsed": false
   },
   "outputs": [
    {
     "data": {
      "text/plain": [
       "[{'latlong': \"('41.88799988734853', '-87.62256513255957')\",\n",
       "  'name': 'MARKET CHICAGO'},\n",
       " {'latlong': \"('41.88743405025222', '-87.68184949426895')\",\n",
       "  'name': 'DONERMEN, L.L.C.'},\n",
       " {'latlong': \"('41.9011391003399', '-87.6632554839912')\",\n",
       "  'name': 'WICKER PARK KIDZ LEARING CENTER INC.'},\n",
       " {'latlong': \"('41.93400462046093', '-87.66094552143197')\",\n",
       "  'name': 'LEFT COAST FOOD + JUICE'},\n",
       " {'latlong': \"('41.824042753773746', '-87.62294655194275')\",\n",
       "  'name': 'FOOD EXPRESS RESTAURANT'}]"
      ]
     },
     "execution_count": 67,
     "metadata": {},
     "output_type": "execute_result"
    }
   ],
   "source": [
    "cities_restaurants['chicago'][:5]"
   ]
  },
  {
   "cell_type": "code",
   "execution_count": 68,
   "metadata": {
    "collapsed": false
   },
   "outputs": [
    {
     "data": {
      "text/plain": [
       "[{'latlong': \"('40.7643124', '-73.8803827')\",\n",
       "  'name': 'BRUNOS ON THE BOULEVARD 88-25 ASTORIA BOULEVARD New York NY 11369'},\n",
       " {'latlong': \"('40.8502883', '-73.8786113')\",\n",
       "  'name': 'WILD ASIA 2300 SOUTHERN BOULEVARD New York NY 10460'},\n",
       " {'latlong': \"('40.7925587', '-73.9680572')\",\n",
       "  'name': 'P & S DELI GROCERY 730 COLUMBUS AVENUE New York NY 10025'},\n",
       " {'latlong': \"('40.7250632', '-73.9976946')\",\n",
       "  'name': 'ANGELIKA FILM CENTER 18 WEST HOUSTON STREET New York NY 10012'},\n",
       " {'latlong': \"('40.6515882', '-73.9330429')\",\n",
       "  'name': \"SHASHEMENE INT'L RESTAURA 195 EAST 56 STREET New York NY 11203\"}]"
      ]
     },
     "execution_count": 68,
     "metadata": {},
     "output_type": "execute_result"
    }
   ],
   "source": [
    "cities_restaurants['new york city'][:5]"
   ]
  },
  {
   "cell_type": "code",
   "execution_count": 69,
   "metadata": {
    "collapsed": false
   },
   "outputs": [
    {
     "data": {
      "text/plain": [
       "[{'latlong': '(42.34842, -71.097471)', 'name': 'Uno Chicago Grill'},\n",
       " {'latlong': '(42.355646, -71.062559)', 'name': \"Ziti's Express\"},\n",
       " {'latlong': '(42.349589, -71.080292)', 'name': 'Uno Chicago Grill'},\n",
       " {'latlong': '(42.33474, -71.07567)', 'name': 'Pizza Stop'},\n",
       " {'latlong': '(42.315595, -71.065919)', 'name': 'CANTON HOUSE'}]"
      ]
     },
     "execution_count": 69,
     "metadata": {},
     "output_type": "execute_result"
    }
   ],
   "source": [
    "cities_restaurants['boston'][:5]"
   ]
  },
  {
   "cell_type": "code",
   "execution_count": 70,
   "metadata": {
    "collapsed": false
   },
   "outputs": [],
   "source": [
    "for_json = {\"kansas_city\" : cities_restaurants['kansas_city'],\n",
    "           \"chicago\" : cities_restaurants['chicago'],\n",
    "           \"new york\" : cities_restaurants['new york'],\n",
    "           \"san francisco\" : cities_restaurants['san francisco'],\n",
    "           \"boston\" : cities_restaurants['boston']\n",
    "           }"
   ]
  },
  {
   "cell_type": "code",
   "execution_count": 71,
   "metadata": {
    "collapsed": false
   },
   "outputs": [],
   "source": [
    "with open('restaurants.json', 'w') as outfile:\n",
    "    json.dump(for_json, outfile)"
   ]
  }
 ],
 "metadata": {
  "kernelspec": {
   "display_name": "Python 2",
   "language": "python",
   "name": "python2"
  },
  "language_info": {
   "codemirror_mode": {
    "name": "ipython",
    "version": 2
   },
   "file_extension": ".py",
   "mimetype": "text/x-python",
   "name": "python",
   "nbconvert_exporter": "python",
   "pygments_lexer": "ipython2",
   "version": "2.7.7"
  }
 },
 "nbformat": 4,
 "nbformat_minor": 0
}
