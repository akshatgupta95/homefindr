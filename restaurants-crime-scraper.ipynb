{
 "cells": [
  {
   "cell_type": "code",
   "execution_count": 58,
   "metadata": {
    "collapsed": true
   },
   "outputs": [],
   "source": [
    "import csv\n",
    "from collections import defaultdict\n",
    "from geopy.geocoders import Nominatim\n",
    "from sets import Set\n",
    "import os"
   ]
  },
  {
   "cell_type": "code",
   "execution_count": 2,
   "metadata": {
    "collapsed": false
   },
   "outputs": [],
   "source": [
    "cities = ['San Francisco', 'New York City', 'Miami', 'Austin', 'Chicago']\n",
    "first = True\n",
    "zipcodes = defaultdict(list)\n",
    "with open('us_postal_codes.csv') as data:\n",
    "    reader = csv.reader(data)\n",
    "    for row in reader:\n",
    "        if (first == True):\n",
    "            first = False\n",
    "        else:\n",
    "            city = row[1]\n",
    "            zipcode = row[0]\n",
    "            if (city in cities):\n",
    "                zipcodes[city].append(zipcode)"
   ]
  },
  {
   "cell_type": "code",
   "execution_count": 26,
   "metadata": {
    "collapsed": false
   },
   "outputs": [],
   "source": [
    "cities_restaurants = defaultdict(list)"
   ]
  },
  {
   "cell_type": "code",
   "execution_count": 27,
   "metadata": {
    "collapsed": false
   },
   "outputs": [],
   "source": [
    "with open('./restaurant-data/austin-restaurants.csv') as rest_data:\n",
    "    reader = csv.reader(rest_data)\n",
    "    for row in reader:\n",
    "        if (len(row[4].split('\\n')) == 3):\n",
    "            if (row[4].split('\\n')[2] != ''):\n",
    "                name = str(row[0])\n",
    "                latlong = str(row[4].split('\\n')[2])\n",
    "                cities_restaurants['austin'].append({'name' : name, 'latlong' : latlong})"
   ]
  },
  {
   "cell_type": "code",
   "execution_count": 28,
   "metadata": {
    "collapsed": false
   },
   "outputs": [],
   "source": [
    "with open('./restaurant-data/sf-restaurants.csv') as rest_data:\n",
    "    reader = csv.reader(rest_data)\n",
    "    for row in reader:\n",
    "        name = row[1]\n",
    "        latlong = (row[5], row[6])\n",
    "        cities_restaurants['san francisco'].append({'name' : name, 'latlong' : latlong})"
   ]
  },
  {
   "cell_type": "code",
   "execution_count": 61,
   "metadata": {
    "collapsed": false
   },
   "outputs": [],
   "source": [
    "folder_path = './restaurant-data/'\n",
    "for root, dirs, files in os.walk(folder_path):\n",
    "    for cur_file in files:\n",
    "        if ('chicago' in cur_file):\n",
    "            with open(cur_file) as rest_data:\n",
    "                reader = csv.reader(rest_data)\n",
    "                for row in reader:\n",
    "                    name = row[1]\n",
    "                    latlong = (row[14], row[15])\n",
    "                    cities_restaurants['chicago'].append({'name' : name, 'latlong' : latlong})"
   ]
  },
  {
   "cell_type": "code",
   "execution_count": 56,
   "metadata": {
    "collapsed": false
   },
   "outputs": [],
   "source": [
    "folder_path = './restaurant-data/'\n",
    "for root, dirs, files in os.walk(folder_path):\n",
    "    for cur_file in files:\n",
    "        if ('nyc' in cur_file):\n",
    "            with open(cur_file) as rest_data:\n",
    "                restaurants_addresses = Set([])\n",
    "                reader = csv.reader(rest_data)\n",
    "\n",
    "                for row in reader:\n",
    "                    address = row[3].strip() + \" \" + row[2].strip() + \" \" + row[4].strip()\n",
    "                    restaurants_addresses.add((row[1], address))\n",
    "\n",
    "                geolocator = Nominatim()\n",
    "                for tup in restaurants_addresses:\n",
    "                    name = tup[0]\n",
    "                    address = tup[1]\n",
    "                    location = geolocator.geocode(address)\n",
    "                    if (location != None):\n",
    "                        name = name\n",
    "                        latlong = (location.latitude, location.longitude)\n",
    "                        cities_restaurants['new york city'].append({'name' : name, 'latlong' : latlong})"
   ]
  },
  {
   "cell_type": "code",
   "execution_count": 40,
   "metadata": {
    "collapsed": false
   },
   "outputs": [
    {
     "name": "stdout",
     "output_type": "stream",
     "text": [
      "('JONG JEE CHOE', (29.785086, -95.4032709))\n",
      "('NAK KYUN CHANG', (34.056423173913, -118.258127217391))\n",
      "('NANOS RESTAURANT LLC', (34.1113998, -118.1890939))\n",
      "('MEL-Z ENTERPRISE INC', (34.2751155, -118.4553634))\n",
      "('BACARO LLC', (41.5223714, -90.5891474))\n",
      "('IN-N-OUT BURGERS A CALIFORNIA CORPORATION', (34.2487872, -118.5024161))\n",
      "('MYONG SU OAH', (27.92191, -82.5197739))\n",
      "('KULWANT SINGH', (33.6638363, -118.0110408))\n"
     ]
    }
   ],
   "source": [
    "with open('./restaurant-data/la-restaurants.csv') as rest_data:\n",
    "    restaurants_addresses = Set([])\n",
    "    reader = csv.reader(rest_data)\n",
    "    \n",
    "    for row in reader:\n",
    "        address = row[3]\n",
    "        restaurants_addresses.add((row[1], address))\n",
    "        \n",
    "    geolocator = Nominatim()\n",
    "    for tup in restaurants_addresses:\n",
    "        name = tup[0]\n",
    "        address = tup[1]\n",
    "        location = geolocator.geocode(address)\n",
    "        if (location != None):\n",
    "            name = name\n",
    "            latlong = (location.latitude, location.longitude)\n",
    "            cities_restaurants['los angeles'].append({'name' : name, 'latlong' : latlong})"
   ]
  },
  {
   "cell_type": "code",
   "execution_count": 30,
   "metadata": {
    "collapsed": false
   },
   "outputs": [
    {
     "data": {
      "text/plain": [
       "[{'latlong': ('37.791116', '-122.403816'), 'name': 'Tiramisu Kitchen'},\n",
       " {'latlong': ('37.786848', '-122.421547'), 'name': 'Nrgize Lifestyle Cafe'},\n",
       " {'latlong': ('37.792888', '-122.403135'),\n",
       "  'name': 'OMNI S.F. Hotel - 2nd Floor Pantry'},\n",
       " {'latlong': ('37.807155', '-122.419004'),\n",
       "  'name': \"Norman's Ice Cream and Freezes\"},\n",
       " {'latlong': ('37.747114', '-122.413641'), 'name': \"CHARLIE'S DELI CAFE\"}]"
      ]
     },
     "execution_count": 30,
     "metadata": {},
     "output_type": "execute_result"
    }
   ],
   "source": [
    "cities_restaurants['san francisco'][:5]"
   ]
  },
  {
   "cell_type": "code",
   "execution_count": 31,
   "metadata": {
    "collapsed": false
   },
   "outputs": [
    {
     "data": {
      "text/plain": [
       "[{'latlong': '(30.327614, -97.705496)', 'name': \"'Bout Time II\"},\n",
       " {'latlong': '(30.277693, -97.742469)', 'name': '15th Street Cafe'},\n",
       " {'latlong': '(30.277693, -97.742469)', 'name': '15th Street Cafe'},\n",
       " {'latlong': '(30.277693, -97.742469)', 'name': '15th Street Cafe'},\n",
       " {'latlong': '(30.312363, -97.715363)', 'name': '1-Stop Food Store'}]"
      ]
     },
     "execution_count": 31,
     "metadata": {},
     "output_type": "execute_result"
    }
   ],
   "source": [
    "cities_restaurants['austin'][:5]"
   ]
  },
  {
   "cell_type": "code",
   "execution_count": 32,
   "metadata": {
    "collapsed": false
   },
   "outputs": [
    {
     "data": {
      "text/plain": [
       "[{'latlong': ('41.88799988734853', '-87.62256513255957'),\n",
       "  'name': 'MARKET CHICAGO'},\n",
       " {'latlong': ('41.88743405025222', '-87.68184949426895'),\n",
       "  'name': 'DONERMEN, L.L.C.'},\n",
       " {'latlong': ('41.9011391003399', '-87.6632554839912'),\n",
       "  'name': 'WICKER PARK KIDZ LEARING CENTER INC.'},\n",
       " {'latlong': ('41.93400462046093', '-87.66094552143197'),\n",
       "  'name': 'LEFT COAST FOOD + JUICE'},\n",
       " {'latlong': ('41.824042753773746', '-87.62294655194275'),\n",
       "  'name': 'FOOD EXPRESS RESTAURANT'}]"
      ]
     },
     "execution_count": 32,
     "metadata": {},
     "output_type": "execute_result"
    }
   ],
   "source": [
    "cities_restaurants['chicago'][:5]"
   ]
  },
  {
   "cell_type": "code",
   "execution_count": 55,
   "metadata": {
    "collapsed": false
   },
   "outputs": [
    {
     "data": {
      "text/plain": [
       "[{'latlong': (40.7193758, -73.8179288),\n",
       "  'name': \"L'BELLA PIZZERIA & RESTAURANT\"},\n",
       " {'latlong': (40.707228, -73.8044999),\n",
       "  'name': 'HILLSIDE DELICATESSEN AND CATERERS'},\n",
       " {'latlong': (40.73425795, -73.9807429999441), 'name': 'VISANA'},\n",
       " {'latlong': (40.6220246, -74.0284606), 'name': 'TACO BELL'},\n",
       " {'latlong': (40.7877554, -73.9541140845869), 'name': 'SUBWAY'}]"
      ]
     },
     "execution_count": 55,
     "metadata": {},
     "output_type": "execute_result"
    }
   ],
   "source": [
    "cities_restaurants['new york city'][:5]"
   ]
  },
  {
   "cell_type": "code",
   "execution_count": null,
   "metadata": {
    "collapsed": false
   },
   "outputs": [],
   "source": [
    "cities_restaurants['los angeles'][:5]"
   ]
  },
  {
   "cell_type": "code",
   "execution_count": null,
   "metadata": {
    "collapsed": true
   },
   "outputs": [],
   "source": []
  }
 ],
 "metadata": {
  "kernelspec": {
   "display_name": "Python 2",
   "language": "python",
   "name": "python2"
  },
  "language_info": {
   "codemirror_mode": {
    "name": "ipython",
    "version": 2
   },
   "file_extension": ".py",
   "mimetype": "text/x-python",
   "name": "python",
   "nbconvert_exporter": "python",
   "pygments_lexer": "ipython2",
   "version": "2.7.7"
  }
 },
 "nbformat": 4,
 "nbformat_minor": 0
}
